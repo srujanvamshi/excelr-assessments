{
 "cells": [
  {
   "cell_type": "code",
   "execution_count": 5,
   "id": "e922f518-f380-4b96-89ef-e644c1d3da15",
   "metadata": {},
   "outputs": [
    {
     "name": "stdin",
     "output_type": "stream",
     "text": [
      "Enter marks for subject 1:  67\n",
      "Enter marks for subject 2:  45\n",
      "Enter marks for subject 3:  78\n"
     ]
    },
    {
     "name": "stdout",
     "output_type": "stream",
     "text": [
      "Grade: Fail\n"
     ]
    }
   ],
   "source": [
    "subject1 = float(input(\"Enter marks for subject 1: \"))\n",
    "subject2 = float(input(\"Enter marks for subject 2: \"))\n",
    "subject3 = float(input(\"Enter marks for subject 3: \"))\n",
    "\n",
    "average = (subject1 + subject2 + subject3) / 3\n",
    "\n",
    "if average >= 90:\n",
    "    print(\"Grade: A\")\n",
    "elif 80 <= average < 90:\n",
    "    print(\"Grade: B\")\n",
    "elif 70 <= average < 80:\n",
    "    print(\"Grade: C\")\n",
    "else:\n",
    "    print(\"Grade: Fail\")"
   ]
  }
 ],
 "metadata": {
  "kernelspec": {
   "display_name": "Python [conda env:base] *",
   "language": "python",
   "name": "conda-base-py"
  },
  "language_info": {
   "codemirror_mode": {
    "name": "ipython",
    "version": 3
   },
   "file_extension": ".py",
   "mimetype": "text/x-python",
   "name": "python",
   "nbconvert_exporter": "python",
   "pygments_lexer": "ipython3",
   "version": "3.12.7"
  }
 },
 "nbformat": 4,
 "nbformat_minor": 5
}
