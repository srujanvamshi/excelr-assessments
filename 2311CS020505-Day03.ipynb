{
 "cells": [
  {
   "cell_type": "code",
   "execution_count": 3,
   "id": "360be6dd-75d0-456b-aac4-deaa04bcd477",
   "metadata": {},
   "outputs": [
    {
     "name": "stdout",
     "output_type": "stream",
     "text": [
      "List: [10, 20.5, 'Hello', True, 30]\n",
      "Element at index 0 (First element): 10\n",
      "Element at index 2 (Third element): Hello\n",
      "Element at index -1 (Last element): 30\n",
      "\n",
      "Tuple: (5, 'Python', 3.14, False, 100)\n",
      "Element at index 1 (Second element): Python\n",
      "Element at index 3 (Fourth element): False\n",
      "Element at index -2 (Second last element): False\n",
      "\n",
      "Dictionary: {'name': 'Alice', 'age': 25, 'height': 5.6, 'is_student': True, 'courses': ['Math', 'Science', 'History']}\n",
      "Value for 'name' key: Alice\n",
      "Value for 'age' key: 25\n",
      "Value for 'courses' key: ['Math', 'Science', 'History']\n"
     ]
    }
   ],
   "source": [
    "# Creating a List with 5 elements\n",
    "my_list = [10, 20.5, \"Hello\", True, 30]\n",
    "\n",
    "# Accessing elements from the List by index\n",
    "print(f\"List: {my_list}\")\n",
    "print(f\"Element at index 0 (First element): {my_list[0]}\")\n",
    "print(f\"Element at index 2 (Third element): {my_list[2]}\")\n",
    "print(f\"Element at index -1 (Last element): {my_list[-1]}\")\n",
    "\n",
    "# Creating a Tuple with 5 elements\n",
    "my_tuple = (5, \"Python\", 3.14, False, 100)\n",
    "\n",
    "# Accessing elements from the Tuple by index\n",
    "print(f\"\\nTuple: {my_tuple}\")\n",
    "print(f\"Element at index 1 (Second element): {my_tuple[1]}\")\n",
    "print(f\"Element at index 3 (Fourth element): {my_tuple[3]}\")\n",
    "print(f\"Element at index -2 (Second last element): {my_tuple[-2]}\")\n",
    "\n",
    "# Creating a Dictionary with 5 key-value pairs\n",
    "my_dict = {\n",
    "    \"name\": \"Alice\",\n",
    "    \"age\": 25,\n",
    "    \"height\": 5.6,\n",
    "    \"is_student\": True,\n",
    "    \"courses\": [\"Math\", \"Science\", \"History\"]\n",
    "}\n",
    "\n",
    "# Accessing elements from the Dictionary by key\n",
    "print(f\"\\nDictionary: {my_dict}\")\n",
    "print(f\"Value for 'name' key: {my_dict['name']}\")\n",
    "print(f\"Value for 'age' key: {my_dict['age']}\")\n",
    "print(f\"Value for 'courses' key: {my_dict['courses']}\")"
   ]
  }
 ],
 "metadata": {
  "kernelspec": {
   "display_name": "Python [conda env:base] *",
   "language": "python",
   "name": "conda-base-py"
  },
  "language_info": {
   "codemirror_mode": {
    "name": "ipython",
    "version": 3
   },
   "file_extension": ".py",
   "mimetype": "text/x-python",
   "name": "python",
   "nbconvert_exporter": "python",
   "pygments_lexer": "ipython3",
   "version": "3.12.7"
  }
 },
 "nbformat": 4,
 "nbformat_minor": 5
}
