{
 "cells": [
  {
   "cell_type": "code",
   "execution_count": 11,
   "id": "dcaca6ea-48fe-4426-b9cc-84610b6bb16e",
   "metadata": {},
   "outputs": [
    {
     "name": "stdin",
     "output_type": "stream",
     "text": [
      "Enter a positive integer:  4\n"
     ]
    },
    {
     "name": "stdout",
     "output_type": "stream",
     "text": [
      "\n",
      "Numbers from 1 to 4 using a for loop:\n",
      "1\n",
      "2\n",
      "3\n",
      "4\n",
      "\n",
      "Sum of numbers from 1 to 4 using a while loop: 10\n"
     ]
    }
   ],
   "source": [
    "#1)Write a Python program that performs the following tasks:\n",
    "#1. Ask the user to enter a positive integer `n`.\n",
    "#2. Use a `for` loop to print all numbers from `1` to `n` on separate lines.\n",
    "#3. Use a `while` loop to calculate the sum of all numbers from `1` to `n` and print the result.\n",
    "\n",
    "n = int(input(\"Enter a positive integer: \"))\n",
    "\n",
    "print(\"\\nNumbers from 1 to\", n, \"using a for loop:\")\n",
    "for i in range(1, n + 1):\n",
    "    print(i)\n",
    "\n",
    "sum_of_numbers = 0\n",
    "i = 1\n",
    "while i <= n:\n",
    "    sum_of_numbers += i\n",
    "    i += 1\n",
    "\n",
    "print(\"\\nSum of numbers from 1 to\", n, \"using a while loop:\", sum_of_numbers)"
   ]
  },
  {
   "cell_type": "code",
   "execution_count": 13,
   "id": "f30d02c0-d511-4b20-be78-63375638b422",
   "metadata": {},
   "outputs": [
    {
     "name": "stdin",
     "output_type": "stream",
     "text": [
      "Enter a positive integer:  4\n"
     ]
    },
    {
     "name": "stdout",
     "output_type": "stream",
     "text": [
      "The square of 4 is: 16\n"
     ]
    }
   ],
   "source": [
    "#2)Write a Python program that includes a user-defined function to perform the following tasks:\n",
    "#1. Define a function named calculate_square that takes a single argument `n` and returns the square of `n`.\n",
    "#2. In the main program, ask the user to input a positive integer.\n",
    "#3. Call the calculate_square function with the user-provided number and display the result.\n",
    "\n",
    "def calculate_square(n):\n",
    "    return n ** 2\n",
    "\n",
    "n = int(input(\"Enter a positive integer: \"))\n",
    "\n",
    "result = calculate_square(n)\n",
    "print(f\"The square of {n} is: {result}\")"
   ]
  }
 ],
 "metadata": {
  "kernelspec": {
   "display_name": "Python [conda env:base] *",
   "language": "python",
   "name": "conda-base-py"
  },
  "language_info": {
   "codemirror_mode": {
    "name": "ipython",
    "version": 3
   },
   "file_extension": ".py",
   "mimetype": "text/x-python",
   "name": "python",
   "nbconvert_exporter": "python",
   "pygments_lexer": "ipython3",
   "version": "3.12.7"
  }
 },
 "nbformat": 4,
 "nbformat_minor": 5
}
