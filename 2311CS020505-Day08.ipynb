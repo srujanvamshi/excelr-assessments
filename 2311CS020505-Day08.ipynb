{
 "cells": [
  {
   "cell_type": "code",
   "execution_count": null,
   "id": "b6723664-1417-482e-9cd3-4db3bd530847",
   "metadata": {},
   "outputs": [],
   "source": [
    "import pandas as pd\n",
    "\n",
    "# Load the dataset with the correct file path\n",
    "df = pd.read_csv(\"C:/Users/SAMSUNG FOR BUSINESS/Downloads/Day_8_sales_data.csv\")  # Correct file path directly\n",
    "\n",
    "# Filter rows where sales are greater than 1000\n",
    "sales_above_1000 = df[df['Sales'] > 1000]\n",
    "\n",
    "# Filter rows where the region is \"East\"\n",
    "east_region_sales = df[df['Region'] == 'East']\n",
    "\n",
    "# Display results\n",
    "print(\"Sales greater than 1000:\\n\", sales_above_1000)\n",
    "print(\"\\nSales records for East region:\\n\", east_region_sales)"
   ]
  }
 ],
 "metadata": {
  "kernelspec": {
   "display_name": "Python [conda env:base] *",
   "language": "python",
   "name": "conda-base-py"
  },
  "language_info": {
   "codemirror_mode": {
    "name": "ipython",
    "version": 3
   },
   "file_extension": ".py",
   "mimetype": "text/x-python",
   "name": "python",
   "nbconvert_exporter": "python",
   "pygments_lexer": "ipython3",
   "version": "3.12.7"
  }
 },
 "nbformat": 4,
 "nbformat_minor": 5
}
