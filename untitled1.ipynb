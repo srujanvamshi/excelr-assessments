{
  "nbformat": 4,
  "nbformat_minor": 0,
  "metadata": {
    "colab": {
      "provenance": []
    },
    "kernelspec": {
      "name": "python3",
      "display_name": "Python 3"
    },
    "language_info": {
      "name": "python"
    }
  },
  "cells": [
    {
      "cell_type": "code",
      "execution_count": null,
      "metadata": {
        "id": "e25dhWWjODjF"
      },
      "outputs": [],
      "source": [
        "x=10"
      ]
    },
    {
      "cell_type": "code",
      "source": [
        "y=20"
      ],
      "metadata": {
        "id": "NHJd6Q4mOGoe"
      },
      "execution_count": null,
      "outputs": []
    },
    {
      "cell_type": "code",
      "source": [
        "print(x+y)"
      ],
      "metadata": {
        "colab": {
          "base_uri": "https://localhost:8080/"
        },
        "id": "AV35zzboOI3P",
        "outputId": "027926e1-5ed5-405f-bace-d787aa1c62cc"
      },
      "execution_count": null,
      "outputs": [
        {
          "output_type": "stream",
          "name": "stdout",
          "text": [
            "30\n"
          ]
        }
      ]
    },
    {
      "cell_type": "code",
      "source": [],
      "metadata": {
        "id": "VQyxheqKOKyS"
      },
      "execution_count": null,
      "outputs": []
    }
  ]
}