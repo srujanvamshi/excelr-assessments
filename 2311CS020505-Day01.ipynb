{
 "cells": [
  {
   "cell_type": "code",
   "execution_count": 1,
   "id": "31c1429e-1b67-4d48-92d0-f40c30d55cd0",
   "metadata": {},
   "outputs": [
    {
     "name": "stdout",
     "output_type": "stream",
     "text": [
      "Integer variable: 10, Type: <class 'int'>\n",
      "Float variable: 20.5, Type: <class 'float'>\n",
      "String variable: Hello, World!, Type: <class 'str'>\n",
      "Boolean variable: True, Type: <class 'bool'>\n"
     ]
    }
   ],
   "source": [
    "# Declare variables of different data types\n",
    "int_variable = 10               # Integer\n",
    "float_variable = 20.5           # Float\n",
    "string_variable = \"Hello, World!\"  # String\n",
    "bool_variable = True            # Boolean\n",
    "\n",
    "# Print each variable and its type\n",
    "print(f\"Integer variable: {int_variable}, Type: {type(int_variable)}\")\n",
    "print(f\"Float variable: {float_variable}, Type: {type(float_variable)}\")\n",
    "print(f\"String variable: {string_variable}, Type: {type(string_variable)}\")\n",
    "print(f\"Boolean variable: {bool_variable}, Type: {type(bool_variable)}\")"
   ]
  },
  {
   "cell_type": "code",
   "execution_count": null,
   "id": "21f8ce5c-43a8-4a18-ba60-48e4c8937a7c",
   "metadata": {},
   "outputs": [],
   "source": []
  },
  {
   "cell_type": "code",
   "execution_count": null,
   "id": "37275e2d-4f9a-46cb-ab1d-981971adc272",
   "metadata": {},
   "outputs": [],
   "source": []
  }
 ],
 "metadata": {
  "kernelspec": {
   "display_name": "Python [conda env:base] *",
   "language": "python",
   "name": "conda-base-py"
  },
  "language_info": {
   "codemirror_mode": {
    "name": "ipython",
    "version": 3
   },
   "file_extension": ".py",
   "mimetype": "text/x-python",
   "name": "python",
   "nbconvert_exporter": "python",
   "pygments_lexer": "ipython3",
   "version": "3.12.7"
  }
 },
 "nbformat": 4,
 "nbformat_minor": 5
}
