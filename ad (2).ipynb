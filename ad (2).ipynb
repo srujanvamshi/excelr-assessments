{
  "nbformat": 4,
  "nbformat_minor": 0,
  "metadata": {
    "colab": {
      "provenance": []
    },
    "kernelspec": {
      "name": "python3",
      "display_name": "Python 3"
    },
    "language_info": {
      "name": "python"
    }
  },
  "cells": [
    {
      "cell_type": "code",
      "execution_count": null,
      "metadata": {
        "id": "e25dhWWjODjF"
      },
      "outputs": [],
      "source": [
        "x=10"
      ]
    },
    {
      "cell_type": "code",
      "source": [
        "y=20"
      ],
      "metadata": {
        "id": "NHJd6Q4mOGoe"
      },
      "execution_count": null,
      "outputs": []
    },
    {
      "cell_type": "code",
      "source": [
        "print(x+y)"
      ],
      "metadata": {
        "colab": {
          "base_uri": "https://localhost:8080/"
        },
        "id": "AV35zzboOI3P",
        "outputId": "027926e1-5ed5-405f-bace-d787aa1c62cc"
      },
      "execution_count": null,
      "outputs": [
        {
          "output_type": "stream",
          "name": "stdout",
          "text": [
            "30\n"
          ]
        }
      ]
    },
    {
      "cell_type": "code",
      "source": [
        "h= (90,70,50,30,20)"
      ],
      "metadata": {
        "id": "VQyxheqKOKyS"
      },
      "execution_count": null,
      "outputs": []
    },
    {
      "cell_type": "code",
      "source": [
        "h"
      ],
      "metadata": {
        "colab": {
          "base_uri": "https://localhost:8080/"
        },
        "id": "bbfnif8YRdRm",
        "outputId": "1599d99d-1a52-4d14-9d16-3f2a799f1906"
      },
      "execution_count": null,
      "outputs": [
        {
          "output_type": "execute_result",
          "data": {
            "text/plain": [
              "(90, 70, 50, 30, 20)"
            ]
          },
          "metadata": {},
          "execution_count": 8
        }
      ]
    },
    {
      "cell_type": "code",
      "source": [
        "type(h)"
      ],
      "metadata": {
        "colab": {
          "base_uri": "https://localhost:8080/"
        },
        "id": "l7Qodc3pRes_",
        "outputId": "a8c830ea-8c2f-4ffd-87c7-b777ae203a63"
      },
      "execution_count": null,
      "outputs": [
        {
          "output_type": "execute_result",
          "data": {
            "text/plain": [
              "tuple"
            ]
          },
          "metadata": {},
          "execution_count": 9
        }
      ]
    },
    {
      "cell_type": "code",
      "source": [
        "h.index(30)"
      ],
      "metadata": {
        "colab": {
          "base_uri": "https://localhost:8080/"
        },
        "id": "PGDWtxkHRjZT",
        "outputId": "5c56c38b-dedb-4787-ae65-8827967b8c0b"
      },
      "execution_count": null,
      "outputs": [
        {
          "output_type": "execute_result",
          "data": {
            "text/plain": [
              "3"
            ]
          },
          "metadata": {},
          "execution_count": 7
        }
      ]
    },
    {
      "cell_type": "code",
      "source": [
        "h.count(50)"
      ],
      "metadata": {
        "colab": {
          "base_uri": "https://localhost:8080/",
          "height": 141
        },
        "id": "cUfSPtt9Rm5i",
        "outputId": "99e317c2-0012-4d2e-8d41-e550eddddcc6"
      },
      "execution_count": 1,
      "outputs": [
        {
          "output_type": "error",
          "ename": "NameError",
          "evalue": "name 'h' is not defined",
          "traceback": [
            "\u001b[0;31m---------------------------------------------------------------------------\u001b[0m",
            "\u001b[0;31mNameError\u001b[0m                                 Traceback (most recent call last)",
            "\u001b[0;32m<ipython-input-1-7fd8d0c54cbc>\u001b[0m in \u001b[0;36m<cell line: 1>\u001b[0;34m()\u001b[0m\n\u001b[0;32m----> 1\u001b[0;31m \u001b[0mh\u001b[0m\u001b[0;34m.\u001b[0m\u001b[0mcount\u001b[0m\u001b[0;34m(\u001b[0m\u001b[0;36m50\u001b[0m\u001b[0;34m)\u001b[0m\u001b[0;34m\u001b[0m\u001b[0;34m\u001b[0m\u001b[0m\n\u001b[0m",
            "\u001b[0;31mNameError\u001b[0m: name 'h' is not defined"
          ]
        }
      ]
    },
    {
      "cell_type": "code",
      "source": [
        "h[1:3]"
      ],
      "metadata": {
        "colab": {
          "base_uri": "https://localhost:8080/"
        },
        "id": "eKIVs-yWR9fL",
        "outputId": "d7095d81-0ba2-48b9-f353-85274da7d889"
      },
      "execution_count": null,
      "outputs": [
        {
          "output_type": "execute_result",
          "data": {
            "text/plain": [
              "(70, 50)"
            ]
          },
          "metadata": {},
          "execution_count": 12
        }
      ]
    },
    {
      "cell_type": "code",
      "source": [
        "s={40,50,60,70,80}"
      ],
      "metadata": {
        "id": "DcA30b1sSVQI"
      },
      "execution_count": null,
      "outputs": []
    },
    {
      "cell_type": "code",
      "source": [
        "s"
      ],
      "metadata": {
        "colab": {
          "base_uri": "https://localhost:8080/"
        },
        "id": "isKeaUIBSfrj",
        "outputId": "238ab79e-626c-435b-a44a-668756c0ce16"
      },
      "execution_count": null,
      "outputs": [
        {
          "output_type": "execute_result",
          "data": {
            "text/plain": [
              "{40, 50, 60, 70, 80}"
            ]
          },
          "metadata": {},
          "execution_count": 14
        }
      ]
    },
    {
      "cell_type": "code",
      "source": [
        "type(s)"
      ],
      "metadata": {
        "colab": {
          "base_uri": "https://localhost:8080/"
        },
        "id": "7QxFJFJJSges",
        "outputId": "fd90b988-a45e-430e-ae9d-f67d4146bbed"
      },
      "execution_count": null,
      "outputs": [
        {
          "output_type": "execute_result",
          "data": {
            "text/plain": [
              "set"
            ]
          },
          "metadata": {},
          "execution_count": 15
        }
      ]
    },
    {
      "cell_type": "code",
      "source": [
        "s"
      ],
      "metadata": {
        "colab": {
          "base_uri": "https://localhost:8080/"
        },
        "id": "eSpvzTYpSjHO",
        "outputId": "08bc9631-0232-47d7-dac8-26347905391d"
      },
      "execution_count": null,
      "outputs": [
        {
          "output_type": "execute_result",
          "data": {
            "text/plain": [
              "{40, 50, 60, 70, 80}"
            ]
          },
          "metadata": {},
          "execution_count": 16
        }
      ]
    },
    {
      "cell_type": "code",
      "source": [
        "s.add(77)"
      ],
      "metadata": {
        "id": "v2nBmuDRSkky"
      },
      "execution_count": null,
      "outputs": []
    },
    {
      "cell_type": "code",
      "source": [
        "s"
      ],
      "metadata": {
        "colab": {
          "base_uri": "https://localhost:8080/"
        },
        "id": "xNokUZYLSn5n",
        "outputId": "88076922-0a4a-4eea-9b12-8dfa91eb0343"
      },
      "execution_count": null,
      "outputs": [
        {
          "output_type": "execute_result",
          "data": {
            "text/plain": [
              "{40, 50, 60, 70, 77, 80}"
            ]
          },
          "metadata": {},
          "execution_count": 18
        }
      ]
    },
    {
      "cell_type": "code",
      "source": [
        "s.remove(50)"
      ],
      "metadata": {
        "id": "J7bjW4ORSpRy"
      },
      "execution_count": null,
      "outputs": []
    },
    {
      "cell_type": "code",
      "source": [
        "s"
      ],
      "metadata": {
        "colab": {
          "base_uri": "https://localhost:8080/"
        },
        "id": "KnS4KHnrStYs",
        "outputId": "819acbb5-3d4d-4d3e-c49b-ef04a61c86de"
      },
      "execution_count": null,
      "outputs": [
        {
          "output_type": "execute_result",
          "data": {
            "text/plain": [
              "{40, 60, 70, 77, 80}"
            ]
          },
          "metadata": {},
          "execution_count": 20
        }
      ]
    },
    {
      "cell_type": "code",
      "source": [
        "y={50,67,89,90}"
      ],
      "metadata": {
        "id": "Dnxn31XdSt0s"
      },
      "execution_count": null,
      "outputs": []
    },
    {
      "cell_type": "code",
      "source": [
        "y"
      ],
      "metadata": {
        "colab": {
          "base_uri": "https://localhost:8080/"
        },
        "id": "09Rdaf8TS8xy",
        "outputId": "1b4e4ce7-1c0d-4d74-9bc7-c8dfd6678876"
      },
      "execution_count": null,
      "outputs": [
        {
          "output_type": "execute_result",
          "data": {
            "text/plain": [
              "{50, 67, 89, 90}"
            ]
          },
          "metadata": {},
          "execution_count": 64
        }
      ]
    },
    {
      "cell_type": "code",
      "source": [
        "s.intersection(y)"
      ],
      "metadata": {
        "colab": {
          "base_uri": "https://localhost:8080/"
        },
        "id": "MK05tsyOYG8F",
        "outputId": "1470e266-246b-4bbe-8da7-2e3ef857671f"
      },
      "execution_count": null,
      "outputs": [
        {
          "output_type": "execute_result",
          "data": {
            "text/plain": [
              "set()"
            ]
          },
          "metadata": {},
          "execution_count": 65
        }
      ]
    },
    {
      "cell_type": "code",
      "source": [
        "s.difference(y)"
      ],
      "metadata": {
        "colab": {
          "base_uri": "https://localhost:8080/"
        },
        "id": "oAZBQW9ZTBuq",
        "outputId": "67b525d2-f159-4c4b-cd2d-3c195f86e4c6"
      },
      "execution_count": null,
      "outputs": [
        {
          "output_type": "execute_result",
          "data": {
            "text/plain": [
              "{40, 60, 70, 77, 80}"
            ]
          },
          "metadata": {},
          "execution_count": 66
        }
      ]
    },
    {
      "cell_type": "code",
      "source": [
        "y.difference(s)"
      ],
      "metadata": {
        "colab": {
          "base_uri": "https://localhost:8080/"
        },
        "id": "g8jaT0qOTkGl",
        "outputId": "e336f651-ee8a-4b07-b090-6f1404ed2e19"
      },
      "execution_count": null,
      "outputs": [
        {
          "output_type": "execute_result",
          "data": {
            "text/plain": [
              "{67, 89, 90}"
            ]
          },
          "metadata": {},
          "execution_count": 57
        }
      ]
    },
    {
      "cell_type": "code",
      "source": [
        "s.union(y)"
      ],
      "metadata": {
        "colab": {
          "base_uri": "https://localhost:8080/"
        },
        "id": "vjIvPPF9T2iL",
        "outputId": "b1d8ffa7-6205-4ac8-aad4-fca83f695c03"
      },
      "execution_count": null,
      "outputs": [
        {
          "output_type": "execute_result",
          "data": {
            "text/plain": [
              "{40, 60, 67, 70, 77, 80, 89, 90}"
            ]
          },
          "metadata": {},
          "execution_count": 58
        }
      ]
    },
    {
      "cell_type": "code",
      "source": [
        "s.intersection(y)"
      ],
      "metadata": {
        "colab": {
          "base_uri": "https://localhost:8080/"
        },
        "id": "piWlONu_T58a",
        "outputId": "671538d8-9230-4f13-a219-0e6f2a6b9028"
      },
      "execution_count": null,
      "outputs": [
        {
          "output_type": "execute_result",
          "data": {
            "text/plain": [
              "set()"
            ]
          },
          "metadata": {},
          "execution_count": 59
        }
      ]
    },
    {
      "cell_type": "code",
      "source": [
        "s.symmetric_difference(y)"
      ],
      "metadata": {
        "colab": {
          "base_uri": "https://localhost:8080/"
        },
        "id": "Ka6_3XOpUoCt",
        "outputId": "07db8798-67e7-4b30-edb5-b5de90df152b"
      },
      "execution_count": null,
      "outputs": [
        {
          "output_type": "execute_result",
          "data": {
            "text/plain": [
              "{40, 60, 67, 70, 77, 80, 89, 90}"
            ]
          },
          "metadata": {},
          "execution_count": 60
        }
      ]
    },
    {
      "cell_type": "code",
      "source": [
        "s"
      ],
      "metadata": {
        "colab": {
          "base_uri": "https://localhost:8080/"
        },
        "id": "mC3gyNOGXwoC",
        "outputId": "eee8f4b3-7ce5-4636-8f03-86c28b88fc47"
      },
      "execution_count": null,
      "outputs": [
        {
          "output_type": "execute_result",
          "data": {
            "text/plain": [
              "{40, 60, 70, 77, 80}"
            ]
          },
          "metadata": {},
          "execution_count": 61
        }
      ]
    },
    {
      "cell_type": "code",
      "source": [
        "a=(45,18,95,67)"
      ],
      "metadata": {
        "id": "4If2x4f6UrFR"
      },
      "execution_count": null,
      "outputs": []
    },
    {
      "cell_type": "code",
      "source": [
        "a"
      ],
      "metadata": {
        "colab": {
          "base_uri": "https://localhost:8080/"
        },
        "id": "7YvsyAmYVhqW",
        "outputId": "672dcf19-fb79-4f91-ff06-46b8024c9041"
      },
      "execution_count": null,
      "outputs": [
        {
          "output_type": "execute_result",
          "data": {
            "text/plain": [
              "(45, 18, 95, 67)"
            ]
          },
          "metadata": {},
          "execution_count": 41
        }
      ]
    },
    {
      "cell_type": "code",
      "source": [
        "d=list(a)"
      ],
      "metadata": {
        "id": "ZkpNQM0FWDZ5"
      },
      "execution_count": null,
      "outputs": []
    },
    {
      "cell_type": "code",
      "source": [
        "d"
      ],
      "metadata": {
        "colab": {
          "base_uri": "https://localhost:8080/"
        },
        "id": "fQm7BNZpWHuP",
        "outputId": "ac822694-1a37-40ed-8b44-dbf93ff93f4b"
      },
      "execution_count": null,
      "outputs": [
        {
          "output_type": "execute_result",
          "data": {
            "text/plain": [
              "[45, 18, 95, 67]"
            ]
          },
          "metadata": {},
          "execution_count": 44
        }
      ]
    },
    {
      "cell_type": "code",
      "source": [
        "d.append(95)"
      ],
      "metadata": {
        "id": "aPx41qxmWMzh"
      },
      "execution_count": null,
      "outputs": []
    },
    {
      "cell_type": "code",
      "source": [
        "d"
      ],
      "metadata": {
        "colab": {
          "base_uri": "https://localhost:8080/"
        },
        "id": "5nAzxgM-WR3D",
        "outputId": "dca6f73e-e830-4a69-eeb8-d2ccdde78c52"
      },
      "execution_count": null,
      "outputs": [
        {
          "output_type": "execute_result",
          "data": {
            "text/plain": [
              "[45, 18, 95, 67, 95]"
            ]
          },
          "metadata": {},
          "execution_count": 46
        }
      ]
    },
    {
      "cell_type": "code",
      "source": [
        "d"
      ],
      "metadata": {
        "colab": {
          "base_uri": "https://localhost:8080/"
        },
        "id": "J8piEZrnWSsy",
        "outputId": "e6341b3b-a7dc-499b-a40f-d47b4279c58c"
      },
      "execution_count": null,
      "outputs": [
        {
          "output_type": "execute_result",
          "data": {
            "text/plain": [
              "[45, 18, 95, 67, 95]"
            ]
          },
          "metadata": {},
          "execution_count": 49
        }
      ]
    },
    {
      "cell_type": "code",
      "source": [
        "a=tuple(d)"
      ],
      "metadata": {
        "id": "rQQiJVmJWZcY"
      },
      "execution_count": null,
      "outputs": []
    },
    {
      "cell_type": "code",
      "source": [
        "a"
      ],
      "metadata": {
        "colab": {
          "base_uri": "https://localhost:8080/"
        },
        "id": "wVu4RYvhWaL6",
        "outputId": "fe036df7-88da-43d7-825a-011550c21973"
      },
      "execution_count": null,
      "outputs": [
        {
          "output_type": "execute_result",
          "data": {
            "text/plain": [
              "(45, 18, 95, 67, 95)"
            ]
          },
          "metadata": {},
          "execution_count": 51
        }
      ]
    },
    {
      "cell_type": "code",
      "source": [
        "d"
      ],
      "metadata": {
        "colab": {
          "base_uri": "https://localhost:8080/"
        },
        "id": "KiUNa-cvWllw",
        "outputId": "b6610e36-f48a-491d-fe93-adb40030c3de"
      },
      "execution_count": null,
      "outputs": [
        {
          "output_type": "execute_result",
          "data": {
            "text/plain": [
              "[45, 18, 95, 67, 95]"
            ]
          },
          "metadata": {},
          "execution_count": 52
        }
      ]
    },
    {
      "cell_type": "code",
      "source": [
        "h = (90, 70, 50, 30, 20)\n",
        "average = sum(h) / len(h)\n",
        "\n",
        "if average >= 90:\n",
        "  print('Grade: A')\n",
        "elif average >= 80:\n",
        "  print('Grade: B')\n",
        "elif average >= 70:\n",
        "  print('Grade: C')\n",
        "elif average >= 60:\n",
        "  print('Grade: D')\n",
        "else:\n",
        "  print('Grade: F')"
      ],
      "metadata": {
        "colab": {
          "base_uri": "https://localhost:8080/"
        },
        "id": "Guuzs_G9Z-fB",
        "outputId": "1854a71e-26a0-4e9a-d177-811da8f27512"
      },
      "execution_count": null,
      "outputs": [
        {
          "output_type": "stream",
          "name": "stdout",
          "text": [
            "Grade: F\n"
          ]
        }
      ]
    },
    {
      "cell_type": "code",
      "source": [
        "\n",
        "h = (90, 70, 50, 30, 20)\n",
        "average = sum(h) / len(h)\n",
        "\n",
        "if 80 <= average <= 89:\n",
        "  print('Grade: B')\n",
        "elif average >= 90:\n",
        "  print('Grade: A')\n",
        "elif average >= 70:\n",
        "  print('Grade: C')\n",
        "elif average >= 60:\n",
        "  print('Grade: D')\n",
        "else:\n",
        "  print('Grade: F')"
      ],
      "metadata": {
        "id": "trQlvok5arcV",
        "outputId": "929b697d-bb8f-4c4d-d117-cd8e23a8b0d0",
        "colab": {
          "base_uri": "https://localhost:8080/"
        }
      },
      "execution_count": null,
      "outputs": [
        {
          "output_type": "stream",
          "name": "stdout",
          "text": [
            "Grade: F\n"
          ]
        }
      ]
    },
    {
      "cell_type": "code",
      "source": [
        "# prompt: if the avg is between 80 and 89,print\"Grade:B\"\n",
        "\n",
        "h = (90, 70, 50, 30, 20)\n",
        "average = sum(h) / len(h)\n",
        "\n",
        "if 80 <= average <= 89:\n",
        "  print('Grade: B')\n",
        "elif average >= 90:\n",
        "  print('Grade: A')\n",
        "elif average >= 70:\n",
        "  print('Grade: C')\n",
        "elif average >= 60:\n",
        "  print('Grade: D')\n",
        "else:\n",
        "  print('Grade: F')"
      ],
      "metadata": {
        "id": "BBkMWwcFaLq8",
        "colab": {
          "base_uri": "https://localhost:8080/"
        },
        "outputId": "e94a3387-3a55-4e30-c413-4a52b7d66efe"
      },
      "execution_count": null,
      "outputs": [
        {
          "output_type": "stream",
          "name": "stdout",
          "text": [
            "Grade: F\n"
          ]
        }
      ]
    },
    {
      "cell_type": "code",
      "source": [
        "d = {101: 4, 102: 7, 103: 10, 104: 13, 105: 16}"
      ],
      "metadata": {
        "id": "sDGGa_5VGMD_"
      },
      "execution_count": null,
      "outputs": []
    },
    {
      "cell_type": "code",
      "source": [
        "d"
      ],
      "metadata": {
        "colab": {
          "base_uri": "https://localhost:8080/"
        },
        "id": "6zksFqIjGwue",
        "outputId": "3c9a2b48-1ce3-4b7d-80a4-33488bacd0ff"
      },
      "execution_count": null,
      "outputs": [
        {
          "output_type": "execute_result",
          "data": {
            "text/plain": [
              "{101: [1000, 5000, 6000, 7000]}"
            ]
          },
          "metadata": {},
          "execution_count": 24
        }
      ]
    },
    {
      "cell_type": "code",
      "source": [
        "d={101:4, 102:7}"
      ],
      "metadata": {
        "id": "Qo-rTaxqGxVK"
      },
      "execution_count": null,
      "outputs": []
    },
    {
      "cell_type": "code",
      "source": [
        "d"
      ],
      "metadata": {
        "colab": {
          "base_uri": "https://localhost:8080/"
        },
        "id": "xbG_6HbaG4nK",
        "outputId": "2a7b119b-b373-4c94-c440-532b3214374c"
      },
      "execution_count": null,
      "outputs": [
        {
          "output_type": "execute_result",
          "data": {
            "text/plain": [
              "{101: 4, 102: 7}"
            ]
          },
          "metadata": {},
          "execution_count": 26
        }
      ]
    },
    {
      "cell_type": "code",
      "source": [
        "type(d)"
      ],
      "metadata": {
        "colab": {
          "base_uri": "https://localhost:8080/"
        },
        "id": "aYaUMF83G6fB",
        "outputId": "04811d3e-8e26-4f59-afd8-4d4fea4f572d"
      },
      "execution_count": null,
      "outputs": [
        {
          "output_type": "execute_result",
          "data": {
            "text/plain": [
              "dict"
            ]
          },
          "metadata": {},
          "execution_count": 27
        }
      ]
    },
    {
      "cell_type": "code",
      "source": [
        "d"
      ],
      "metadata": {
        "colab": {
          "base_uri": "https://localhost:8080/"
        },
        "id": "O-bVN4YjG86d",
        "outputId": "955c71f4-f49b-42b0-956e-93d2e8db088e"
      },
      "execution_count": null,
      "outputs": [
        {
          "output_type": "execute_result",
          "data": {
            "text/plain": [
              "{101: 4, 102: 7}"
            ]
          },
          "metadata": {},
          "execution_count": 28
        }
      ]
    },
    {
      "cell_type": "code",
      "source": [
        "d.update({101: 809})"
      ],
      "metadata": {
        "id": "-3UWzO1eG_hp"
      },
      "execution_count": null,
      "outputs": []
    },
    {
      "cell_type": "code",
      "source": [
        "d"
      ],
      "metadata": {
        "colab": {
          "base_uri": "https://localhost:8080/"
        },
        "id": "zuWjwF10HQn_",
        "outputId": "3513bd50-8c56-4857-d6ad-c62f8beccc8a"
      },
      "execution_count": null,
      "outputs": [
        {
          "output_type": "execute_result",
          "data": {
            "text/plain": [
              "{101: 809, 102: 7}"
            ]
          },
          "metadata": {},
          "execution_count": 30
        }
      ]
    },
    {
      "cell_type": "code",
      "source": [
        "d[101]=5000"
      ],
      "metadata": {
        "id": "TiVlPZYlHe9P"
      },
      "execution_count": null,
      "outputs": []
    },
    {
      "cell_type": "code",
      "source": [
        "d"
      ],
      "metadata": {
        "colab": {
          "base_uri": "https://localhost:8080/"
        },
        "id": "9C1FyZhbHlMx",
        "outputId": "797f5a47-113f-457a-e099-458765361ec1"
      },
      "execution_count": null,
      "outputs": [
        {
          "output_type": "execute_result",
          "data": {
            "text/plain": [
              "{101: 5000, 102: 7}"
            ]
          },
          "metadata": {},
          "execution_count": 32
        }
      ]
    },
    {
      "cell_type": "code",
      "source": [
        "del d[102]"
      ],
      "metadata": {
        "id": "QD2Su-jIHmTD"
      },
      "execution_count": null,
      "outputs": []
    },
    {
      "cell_type": "code",
      "source": [
        "d"
      ],
      "metadata": {
        "colab": {
          "base_uri": "https://localhost:8080/"
        },
        "id": "HwsRSBt8Hprh",
        "outputId": "455fc6cc-a9e3-4dd2-ae8d-989af6a00406"
      },
      "execution_count": null,
      "outputs": [
        {
          "output_type": "execute_result",
          "data": {
            "text/plain": [
              "{101: 5000}"
            ]
          },
          "metadata": {},
          "execution_count": 16
        }
      ]
    },
    {
      "cell_type": "code",
      "source": [
        "d.get(101)"
      ],
      "metadata": {
        "colab": {
          "base_uri": "https://localhost:8080/"
        },
        "id": "vD7FEQd9HvKN",
        "outputId": "9972a366-b336-488d-de6b-6ffdb01125f1"
      },
      "execution_count": null,
      "outputs": [
        {
          "output_type": "execute_result",
          "data": {
            "text/plain": [
              "5000"
            ]
          },
          "metadata": {},
          "execution_count": 33
        }
      ]
    },
    {
      "cell_type": "code",
      "source": [
        "d[101] = [1000, 5000, 6000, 7000]"
      ],
      "metadata": {
        "id": "MmzpsAIsIiE8"
      },
      "execution_count": null,
      "outputs": []
    },
    {
      "cell_type": "code",
      "source": [
        "d"
      ],
      "metadata": {
        "colab": {
          "base_uri": "https://localhost:8080/"
        },
        "id": "E-ODDtsSJC68",
        "outputId": "5a79c8c5-a8b4-40aa-f09e-c6ab187accfa"
      },
      "execution_count": null,
      "outputs": [
        {
          "output_type": "execute_result",
          "data": {
            "text/plain": [
              "{101: [1000, 5000, 6000, 7000], 102: 7}"
            ]
          },
          "metadata": {},
          "execution_count": 35
        }
      ]
    },
    {
      "cell_type": "code",
      "source": [
        "d[101]"
      ],
      "metadata": {
        "colab": {
          "base_uri": "https://localhost:8080/"
        },
        "id": "CtO7zDHtJDng",
        "outputId": "7332aa93-3c21-44f3-c86d-1dc9f09aaf8a"
      },
      "execution_count": null,
      "outputs": [
        {
          "output_type": "execute_result",
          "data": {
            "text/plain": [
              "[1000, 5000, 6000, 7000]"
            ]
          },
          "metadata": {},
          "execution_count": 36
        }
      ]
    },
    {
      "cell_type": "code",
      "source": [
        "d.update({103: 10})"
      ],
      "metadata": {
        "id": "wJhB3hBGJizK"
      },
      "execution_count": null,
      "outputs": []
    },
    {
      "cell_type": "code",
      "source": [
        "d"
      ],
      "metadata": {
        "colab": {
          "base_uri": "https://localhost:8080/"
        },
        "id": "VTljbUZxJmxp",
        "outputId": "f899f116-bac5-4596-97d8-84305c6c8027"
      },
      "execution_count": null,
      "outputs": [
        {
          "output_type": "execute_result",
          "data": {
            "text/plain": [
              "{101: [1000, 5000, 6000, 7000, 5000], 102: 7, 103: 10}"
            ]
          },
          "metadata": {},
          "execution_count": 59
        }
      ]
    },
    {
      "cell_type": "code",
      "source": [
        "d[103]"
      ],
      "metadata": {
        "colab": {
          "base_uri": "https://localhost:8080/"
        },
        "id": "kiQJ8lnUKacA",
        "outputId": "22fe7ef5-8520-43e5-a9fc-d04da00862b8"
      },
      "execution_count": null,
      "outputs": [
        {
          "output_type": "execute_result",
          "data": {
            "text/plain": [
              "10"
            ]
          },
          "metadata": {},
          "execution_count": 39
        }
      ]
    },
    {
      "cell_type": "code",
      "source": [
        "d[102]"
      ],
      "metadata": {
        "colab": {
          "base_uri": "https://localhost:8080/"
        },
        "id": "TDnS7OAWKdus",
        "outputId": "566c1543-8b96-46f6-ff4b-388c2501855d"
      },
      "execution_count": null,
      "outputs": [
        {
          "output_type": "execute_result",
          "data": {
            "text/plain": [
              "7"
            ]
          },
          "metadata": {},
          "execution_count": 43
        }
      ]
    },
    {
      "cell_type": "code",
      "source": [
        "type(d[102])"
      ],
      "metadata": {
        "colab": {
          "base_uri": "https://localhost:8080/"
        },
        "id": "34Dr6yPDKffV",
        "outputId": "ca01877a-408c-4781-d5b1-10c443cebb8a"
      },
      "execution_count": null,
      "outputs": [
        {
          "output_type": "execute_result",
          "data": {
            "text/plain": [
              "int"
            ]
          },
          "metadata": {},
          "execution_count": 46
        }
      ]
    },
    {
      "cell_type": "code",
      "source": [
        "d[101][3]"
      ],
      "metadata": {
        "colab": {
          "base_uri": "https://localhost:8080/"
        },
        "id": "vjh5zf7RKvCd",
        "outputId": "8917333e-938d-4b0b-fa40-2f7a63815045"
      },
      "execution_count": null,
      "outputs": [
        {
          "output_type": "execute_result",
          "data": {
            "text/plain": [
              "7000"
            ]
          },
          "metadata": {},
          "execution_count": 53
        }
      ]
    },
    {
      "cell_type": "code",
      "source": [
        "d[101].append(5000)"
      ],
      "metadata": {
        "id": "m_mXV_ZgLICJ"
      },
      "execution_count": null,
      "outputs": []
    },
    {
      "cell_type": "code",
      "source": [
        "d"
      ],
      "metadata": {
        "colab": {
          "base_uri": "https://localhost:8080/"
        },
        "id": "c0zaWGiDL8pG",
        "outputId": "5af4ded7-9316-4e68-8db7-f32db3729e11"
      },
      "execution_count": null,
      "outputs": [
        {
          "output_type": "execute_result",
          "data": {
            "text/plain": [
              "{101: [1000, 5000, 6000, 7000, 5000], 102: 7, 103: 10}"
            ]
          },
          "metadata": {},
          "execution_count": 56
        }
      ]
    },
    {
      "cell_type": "code",
      "source": [
        "type[d[102]]"
      ],
      "metadata": {
        "colab": {
          "base_uri": "https://localhost:8080/"
        },
        "id": "3gxW6Y50MdK5",
        "outputId": "7df31766-6890-4f16-898a-a2aa9aebc28a"
      },
      "execution_count": null,
      "outputs": [
        {
          "output_type": "execute_result",
          "data": {
            "text/plain": [
              "type[7]"
            ]
          },
          "metadata": {},
          "execution_count": 57
        }
      ]
    },
    {
      "cell_type": "code",
      "source": [
        "type[d[103]]"
      ],
      "metadata": {
        "colab": {
          "base_uri": "https://localhost:8080/"
        },
        "id": "LhBdDw0XMs5c",
        "outputId": "deba7b0b-73e4-4897-9148-3e4763074ac5"
      },
      "execution_count": null,
      "outputs": [
        {
          "output_type": "execute_result",
          "data": {
            "text/plain": [
              "type[10]"
            ]
          },
          "metadata": {},
          "execution_count": 58
        }
      ]
    },
    {
      "cell_type": "code",
      "source": [
        "d[101] = {'a':{40,50,60}, 'b':{70,80,90}, 'c':['k',{'l':[11,22], 'm': (77, 88)}, 'n']}"
      ],
      "metadata": {
        "id": "Xg381BrGM271"
      },
      "execution_count": null,
      "outputs": []
    },
    {
      "cell_type": "code",
      "source": [
        "d"
      ],
      "metadata": {
        "colab": {
          "base_uri": "https://localhost:8080/"
        },
        "id": "1p7N092gQnot",
        "outputId": "ac21c395-ba6b-4d44-f958-0d41b117ef74"
      },
      "execution_count": null,
      "outputs": [
        {
          "output_type": "execute_result",
          "data": {
            "text/plain": [
              "{101: {'a': {40, 50, 60},\n",
              "  'b': {70, 80, 90},\n",
              "  'c': ['k', {'l': [11, 22], 'm': (77, 88)}, 'n']},\n",
              " 102: 7,\n",
              " 103: 10}"
            ]
          },
          "metadata": {},
          "execution_count": 63
        }
      ]
    },
    {
      "cell_type": "markdown",
      "source": [],
      "metadata": {
        "id": "96jkbWjQQ2GP"
      }
    },
    {
      "cell_type": "code",
      "source": [
        "d[102] = {'a':{40,50,60}, 'b':{70,80,90}, 'c':['k',{'l':[11,22], 'm': (77, 88)}, 'n']}\n"
      ],
      "metadata": {
        "id": "Wto5W0mgQrYZ"
      },
      "execution_count": null,
      "outputs": []
    },
    {
      "cell_type": "code",
      "source": [
        "d"
      ],
      "metadata": {
        "colab": {
          "base_uri": "https://localhost:8080/"
        },
        "id": "WuWMvo8IQ6uC",
        "outputId": "7adc30c2-5e00-4886-9902-226ba2130e19"
      },
      "execution_count": null,
      "outputs": [
        {
          "output_type": "execute_result",
          "data": {
            "text/plain": [
              "{101: {'a': {40, 50, 60},\n",
              "  'b': {70, 80, 90},\n",
              "  'c': ['k', {'l': [11, 22], 'm': (77, 88)}, 'n']},\n",
              " 102: {'a': {40, 50, 60},\n",
              "  'b': {70, 80, 90},\n",
              "  'c': ['k', {'l': [11, 22], 'm': (77, 88)}, 'n']},\n",
              " 103: 10}"
            ]
          },
          "metadata": {},
          "execution_count": 65
        }
      ]
    },
    {
      "cell_type": "markdown",
      "source": [
        "\n",
        "\n",
        "> Add blockquote\n",
        "\n"
      ],
      "metadata": {
        "id": "tzZjGQWtQ3Et"
      }
    },
    {
      "cell_type": "code",
      "source": [
        "d[103] = {'a':{40,50,60}, 'b':{70,80,90}, 'c':['k',{'l':[11,22], 'm': (77, 88)}, 'n']}"
      ],
      "metadata": {
        "id": "7mOqcz3CQ-gg"
      },
      "execution_count": null,
      "outputs": []
    },
    {
      "cell_type": "code",
      "source": [
        "d"
      ],
      "metadata": {
        "id": "agcxBNRXRJ9n",
        "outputId": "a41b29e4-f176-4257-eaaf-d0c0b5922cb3",
        "colab": {
          "base_uri": "https://localhost:8080/"
        }
      },
      "execution_count": null,
      "outputs": [
        {
          "output_type": "execute_result",
          "data": {
            "text/plain": [
              "{101: {'a': {40, 50, 60},\n",
              "  'b': {70, 80, 90},\n",
              "  'c': ['k', {'l': [11, 22], 'm': (77, 88)}, 'n']},\n",
              " 102: {'a': {40, 50, 60},\n",
              "  'b': {70, 80, 90},\n",
              "  'c': ['k', {'l': [11, 22], 'm': (77, 88)}, 'n']},\n",
              " 103: {'a': {40, 50, 60},\n",
              "  'b': {70, 80, 90},\n",
              "  'c': ['k', {'l': [11, 22], 'm': (77, 88)}, 'n']}}"
            ]
          },
          "metadata": {},
          "execution_count": 67
        }
      ]
    },
    {
      "cell_type": "code",
      "source": [
        "name='praneeth'"
      ],
      "metadata": {
        "id": "MutChMG6UCgy"
      },
      "execution_count": 18,
      "outputs": []
    },
    {
      "cell_type": "code",
      "source": [
        "if name.isalpha()==True:\n",
        "  print('Accept')\n",
        "else:\n",
        "  print('Name should not contain digits and symbols')"
      ],
      "metadata": {
        "colab": {
          "base_uri": "https://localhost:8080/"
        },
        "id": "lXSm-XZ0S2eN",
        "outputId": "f7debc5b-c58e-44dd-b9b2-86b6448ab8df"
      },
      "execution_count": 19,
      "outputs": [
        {
          "output_type": "stream",
          "name": "stdout",
          "text": [
            "Accept\n"
          ]
        }
      ]
    },
    {
      "cell_type": "code",
      "source": [
        "name='praneeth508'"
      ],
      "metadata": {
        "id": "Xq5ZnUd7U4Ym"
      },
      "execution_count": 21,
      "outputs": []
    },
    {
      "cell_type": "code",
      "source": [
        "if name.isalpha():\n",
        "  print('Accept')\n",
        "else:\n",
        "  print('Name should not contsin digits and symbols')"
      ],
      "metadata": {
        "id": "LQoF0yj3RKvR",
        "colab": {
          "base_uri": "https://localhost:8080/"
        },
        "outputId": "46b38829-82d0-4464-e60a-19ef606cc9ec"
      },
      "execution_count": 22,
      "outputs": [
        {
          "output_type": "stream",
          "name": "stdout",
          "text": [
            "Name should not contsin digits and symbols\n"
          ]
        }
      ]
    },
    {
      "cell_type": "code",
      "source": [
        "if name.lower():\n",
        "  print('Accept')\n",
        "else:\n",
        "  print('Name should not contsin digits and symbols')"
      ],
      "metadata": {
        "colab": {
          "base_uri": "https://localhost:8080/"
        },
        "id": "OyGEX42cUYaH",
        "outputId": "6f29b6c2-edec-4650-e243-3020574c0d22"
      },
      "execution_count": 23,
      "outputs": [
        {
          "output_type": "stream",
          "name": "stdout",
          "text": [
            "Accept\n"
          ]
        }
      ]
    },
    {
      "cell_type": "code",
      "source": [
        "x='Telangana'\n",
        "x"
      ],
      "metadata": {
        "colab": {
          "base_uri": "https://localhost:8080/",
          "height": 36
        },
        "id": "cD5xonN7UpVO",
        "outputId": "bf9bca1c-f893-4b15-ccbd-c512643978f0"
      },
      "execution_count": 28,
      "outputs": [
        {
          "output_type": "execute_result",
          "data": {
            "text/plain": [
              "'Telangana'"
            ],
            "application/vnd.google.colaboratory.intrinsic+json": {
              "type": "string"
            }
          },
          "metadata": {},
          "execution_count": 28
        }
      ]
    },
    {
      "cell_type": "code",
      "source": [
        "bool(6875)"
      ],
      "metadata": {
        "colab": {
          "base_uri": "https://localhost:8080/"
        },
        "id": "TCsHGk8dVRsO",
        "outputId": "304f45cf-efbc-4e27-889d-b753020efeae"
      },
      "execution_count": 30,
      "outputs": [
        {
          "output_type": "execute_result",
          "data": {
            "text/plain": [
              "True"
            ]
          },
          "metadata": {},
          "execution_count": 30
        }
      ]
    },
    {
      "cell_type": "code",
      "source": [
        "x='mumbai'\n",
        "if x[0]=='m':\n",
        "  print('yes')\n",
        "else:\n",
        "  print('no')"
      ],
      "metadata": {
        "colab": {
          "base_uri": "https://localhost:8080/"
        },
        "id": "3NXgSSryVXzm",
        "outputId": "3aa335c5-83ed-4bfc-d43e-5afda7b8083d"
      },
      "execution_count": 38,
      "outputs": [
        {
          "output_type": "stream",
          "name": "stdout",
          "text": [
            "yes\n"
          ]
        }
      ]
    },
    {
      "cell_type": "code",
      "source": [
        "x='knccoinkcn'\n",
        "x"
      ],
      "metadata": {
        "colab": {
          "base_uri": "https://localhost:8080/",
          "height": 36
        },
        "id": "ydZp8l66V7yP",
        "outputId": "139baaa0-5b7d-4602-a976-4b9da967c417"
      },
      "execution_count": 37,
      "outputs": [
        {
          "output_type": "execute_result",
          "data": {
            "text/plain": [
              "'knccoinkcn'"
            ],
            "application/vnd.google.colaboratory.intrinsic+json": {
              "type": "string"
            }
          },
          "metadata": {},
          "execution_count": 37
        }
      ]
    },
    {
      "cell_type": "code",
      "source": [
        "x='maharastra'\n",
        "if x[0].lower()=='m':\n",
        "  print('yes')\n",
        "else:\n",
        "  print('no')"
      ],
      "metadata": {
        "colab": {
          "base_uri": "https://localhost:8080/"
        },
        "id": "y6KynPT_Wmc0",
        "outputId": "73d09fcf-9ef2-4a1d-8ea1-87742e48a2bc"
      },
      "execution_count": 39,
      "outputs": [
        {
          "output_type": "stream",
          "name": "stdout",
          "text": [
            "yes\n"
          ]
        }
      ]
    },
    {
      "cell_type": "code",
      "source": [
        "x[0].lower()=='m'"
      ],
      "metadata": {
        "colab": {
          "base_uri": "https://localhost:8080/"
        },
        "id": "PwIADPlHYAcL",
        "outputId": "c70a9855-6d2e-46a1-e555-63c6f3124bee"
      },
      "execution_count": 41,
      "outputs": [
        {
          "output_type": "execute_result",
          "data": {
            "text/plain": [
              "True"
            ]
          },
          "metadata": {},
          "execution_count": 41
        }
      ]
    },
    {
      "cell_type": "code",
      "source": [
        "x=['maharastra','hyderbad','singapore']\n",
        "x\n",
        "if x[1].lower()=='h':\n",
        "  print('yes')\n",
        "else:\n",
        "  print('no')"
      ],
      "metadata": {
        "colab": {
          "base_uri": "https://localhost:8080/"
        },
        "id": "5yxAMbFzYcIm",
        "outputId": "637e3acc-800d-49ef-f289-c37b717c9a9f"
      },
      "execution_count": 44,
      "outputs": [
        {
          "output_type": "stream",
          "name": "stdout",
          "text": [
            "no\n"
          ]
        }
      ]
    },
    {
      "cell_type": "code",
      "source": [],
      "metadata": {
        "id": "bEBFDyGmZkRL"
      },
      "execution_count": null,
      "outputs": []
    }
  ]
}